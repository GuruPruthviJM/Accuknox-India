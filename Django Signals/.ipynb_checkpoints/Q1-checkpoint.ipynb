{
 "cells": [
  {
   "cell_type": "markdown",
   "id": "17f370ff",
   "metadata": {},
   "source": [
    "# 1.\tBy default, are Django signals executed synchronously or asynchronously? Please support your answer with a code snippet that conclusively proves your stance. The code does not need to be elegant and production ready, we just need to understand your logic."
   ]
  },
  {
   "cell_type": "markdown",
   "id": "524c573b",
   "metadata": {},
   "source": [
    "By default, Django signals are executed synchronously. This means that when a signal is triggered, the handler (receiver function) is executed immediately within the same thread and process flow that triggered the signal.\n",
    "\n",
    "Here’s a simple example:\n",
    "\n",
    "1. Create a model MyModel and attach a post_save signal to it.\n",
    "\n",
    "2. Introduce a delay inside the signal receiver to simulate a long-running task.\n",
    "\n",
    "3. Measure the time it takes for the save operation to complete, which should include the delay if the signal is executed synchronously."
   ]
  },
  {
   "cell_type": "code",
   "execution_count": null,
   "id": "1f863c1e",
   "metadata": {},
   "outputs": [],
   "source": [
    "import time\n",
    "from django.db import models\n",
    "from django.db.models.signals import post_save\n",
    "from django.dispatch import receiver\n",
    "\n",
    "class MyModel(models.Model):\n",
    "    name = models.CharField(max_length=100)\n",
    "\n",
    "@receiver(post_save, sender=MyModel)\n",
    "def handle_post_save(sender, instance, **kwargs):\n",
    "    print(\"Signal handler started.\")\n",
    "    time.sleep(5)  # Simulates a time-consuming task\n",
    "    print(\"Signal handler completed.\")"
   ]
  },
  {
   "cell_type": "markdown",
   "id": "e0cb36aa",
   "metadata": {},
   "source": [
    "Testing the Synchrony of Signal Execution\n",
    "Now, let's measure how long it takes to save a model instance, which will trigger the signal and its receiver function."
   ]
  },
  {
   "cell_type": "code",
   "execution_count": null,
   "id": "ba00a1ce",
   "metadata": {},
   "outputs": [],
   "source": [
    "from django.utils import timezone\n",
    "\n",
    "# Record the start time\n",
    "start_time = timezone.now()\n",
    "\n",
    "print(\"Saving the model instance...\")\n",
    "my_model_instance = MyModel(name=\"Sample\")\n",
    "my_model_instance.save()  # This triggers the post_save signal\n",
    "\n",
    "# Record the end time\n",
    "end_time = timezone.now()\n",
    "\n",
    "# Calculate and display the total time taken for the save operation\n",
    "elapsed_time = (end_time - start_time).total_seconds()\n",
    "print(f\"Save operation completed in {elapsed_time} seconds.\")"
   ]
  },
  {
   "cell_type": "markdown",
   "id": "ab8bc578",
   "metadata": {},
   "source": [
    "# Output\n",
    "\n",
    "Saving the model instance...\n",
    "\n",
    "Signal handler started.\n",
    "\n",
    "Signal handler completed.\n",
    "\n",
    "Save operation completed in 5.0 seconds.\n"
   ]
  },
  {
   "cell_type": "markdown",
   "id": "348f0a98",
   "metadata": {},
   "source": [
    "# Conclusion\n",
    "\n",
    "The fact that the total time to complete the save operation includes the delay from the signal handler (5 seconds) demonstrates that Django signals, by default, are executed synchronously. This means that the main thread waits for the signal handler to finish before moving on."
   ]
  },
  {
   "cell_type": "code",
   "execution_count": null,
   "id": "27f0c3b4",
   "metadata": {},
   "outputs": [],
   "source": []
  }
 ],
 "metadata": {
  "kernelspec": {
   "display_name": "Python 3 (ipykernel)",
   "language": "python",
   "name": "python3"
  },
  "language_info": {
   "codemirror_mode": {
    "name": "ipython",
    "version": 3
   },
   "file_extension": ".py",
   "mimetype": "text/x-python",
   "name": "python",
   "nbconvert_exporter": "python",
   "pygments_lexer": "ipython3",
   "version": "3.11.5"
  }
 },
 "nbformat": 4,
 "nbformat_minor": 5
}
