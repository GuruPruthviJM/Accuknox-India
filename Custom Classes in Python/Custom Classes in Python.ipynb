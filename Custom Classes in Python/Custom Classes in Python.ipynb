{
 "cells": [
  {
   "cell_type": "markdown",
   "id": "5215d406",
   "metadata": {},
   "source": [
    "# Description: You are tasked with creating a Rectangle class with the following requirements:\n",
    "\n",
    "1. An instance of the Rectangle class requires length:int and width:int to be initialized. \n",
    "2. We can iterate over an instance of the Rectangle class  \n",
    "3. When an instance of the Rectangle class is iterated over, we first get its length in the format: {'length': <VALUE_OF_LENGTH>} followed by the width {width: <VALUE_OF_WIDTH>} "
   ]
  },
  {
   "cell_type": "markdown",
   "id": "7bd8d4f8",
   "metadata": {},
   "source": [
    "To meet the requirements, we can create a Rectangle class that implements:\n",
    "\n",
    "1. An __init__ method to initialize length and width.\n",
    "2. An __iter__ method to make the class iterable.\n",
    "3. In the __iter__ method, we return a generator that yields the length and width in the required dictionary format."
   ]
  },
  {
   "cell_type": "code",
   "execution_count": 3,
   "id": "4bf53094",
   "metadata": {},
   "outputs": [
    {
     "name": "stdout",
     "output_type": "stream",
     "text": [
      "{'length': 10}\n",
      "{'width': 5}\n"
     ]
    }
   ],
   "source": [
    "class Rectangle:\n",
    "    def __init__(self, length: int, width: int):\n",
    "        self.length = length\n",
    "        self.width = width\n",
    "\n",
    "    def __iter__(self):\n",
    "        yield {'length': self.length}\n",
    "        yield {'width': self.width}\n",
    "\n",
    "rect = Rectangle(10, 5)\n",
    "for dimension in rect:\n",
    "    print(dimension)"
   ]
  }
 ],
 "metadata": {
  "kernelspec": {
   "display_name": "Python 3 (ipykernel)",
   "language": "python",
   "name": "python3"
  },
  "language_info": {
   "codemirror_mode": {
    "name": "ipython",
    "version": 3
   },
   "file_extension": ".py",
   "mimetype": "text/x-python",
   "name": "python",
   "nbconvert_exporter": "python",
   "pygments_lexer": "ipython3",
   "version": "3.11.5"
  }
 },
 "nbformat": 4,
 "nbformat_minor": 5
}
